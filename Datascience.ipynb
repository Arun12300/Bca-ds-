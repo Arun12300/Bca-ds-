{
 "cells": [
  {
   "cell_type": "code",
   "execution_count": 6,
   "id": "c9647ecd",
   "metadata": {},
   "outputs": [],
   "source": [
    "def add(num1,num2):\n",
    "    print('addition of 2 num..',num1+num2)"
   ]
  },
  {
   "cell_type": "code",
   "execution_count": 7,
   "id": "247e582a",
   "metadata": {},
   "outputs": [],
   "source": [
    "def product(num1,num2):\n",
    "    print('product of 2 num..',num1*num2)"
   ]
  },
  {
   "cell_type": "code",
   "execution_count": 8,
   "id": "12c7fa7f",
   "metadata": {},
   "outputs": [],
   "source": [
    "def sub(num1,num2):\n",
    "    print('subtract of 2 num..',num1-num2)"
   ]
  },
  {
   "cell_type": "code",
   "execution_count": 9,
   "id": "077d826e",
   "metadata": {},
   "outputs": [],
   "source": [
    "def f2():\n",
    "    for num in range(1,31):\n",
    "        if num%5==0 and  num%3==0:\n",
    "            print(\"number divisible by both 5 and 3.\",num)"
   ]
  },
  {
   "cell_type": "markdown",
   "id": "b3f7d0f8",
   "metadata": {},
   "source": []
  },
  {
   "cell_type": "code",
   "execution_count": 7,
   "id": "2d8c6a4d",
   "metadata": {},
   "outputs": [
    {
     "name": "stdout",
     "output_type": "stream",
     "text": [
      "number divisible by both 5 and 3. 15\n",
      "number divisible by both 5 and 3. 30\n"
     ]
    }
   ],
   "source": [
    "f2()"
   ]
  },
  {
   "cell_type": "markdown",
   "id": "89a2fa0c",
   "metadata": {},
   "source": []
  },
  {
   "cell_type": "code",
   "execution_count": 10,
   "id": "3821753f",
   "metadata": {},
   "outputs": [
    {
     "name": "stdout",
     "output_type": "stream",
     "text": [
      "enter the value for num1-->90\n",
      "enter the value for num2-->90\n",
      "please select your choice\n",
      "\n",
      "1.add, 2.sub,3.divisible by 5 and 3 4.stop\n",
      "enter your choice..1\n",
      "addition of 2 num.. 180\n",
      "please select your choice\n",
      "\n",
      "1.add, 2.sub,3.divisible by 5 and 3 4.stop\n",
      "enter your choice..2\n",
      "subtract of 2 num.. 0\n",
      "please select your choice\n",
      "\n",
      "1.add, 2.sub,3.divisible by 5 and 3 4.stop\n",
      "enter your choice..3\n",
      "number divisible by both 5 and 3. 15\n",
      "number divisible by both 5 and 3. 30\n",
      "please select your choice\n",
      "\n",
      "1.add, 2.sub,3.divisible by 5 and 3 4.stop\n",
      "enter your choice..7\n",
      "invalid choice\n",
      "please select your choice\n",
      "\n",
      "1.add, 2.sub,3.divisible by 5 and 3 4.stop\n",
      "enter your choice..4\n"
     ]
    }
   ],
   "source": [
    "num1=int(input('enter the value for num1-->'))\n",
    "num2=int(input('enter the value for num2-->'))\n",
    "while(True):\n",
    "    print('please select your choice\\n')\n",
    "    print(\"1.add, 2.sub,3.divisible by 5 and 3 4.stop\")\n",
    "    choice=int(input('enter your choice..'))\n",
    "    if choice==1:\n",
    "        add(num1,num2)\n",
    "    elif choice==2:\n",
    "        sub(num1,num2)\n",
    "    elif choice==3:\n",
    "        f2()\n",
    "    elif choice==4:\n",
    "        break\n",
    "    else:\n",
    "        print('invalid choice')\n",
    "        continue\n",
    "        \n",
    "    "
   ]
  },
  {
   "cell_type": "code",
   "execution_count": 25,
   "id": "fd84b381",
   "metadata": {},
   "outputs": [],
   "source": [
    "def square(num1,num2):\n",
    "    print('square of 2 num..',num1**num2)"
   ]
  },
  {
   "cell_type": "code",
   "execution_count": 26,
   "id": "6becf0dc",
   "metadata": {},
   "outputs": [
    {
     "name": "stdout",
     "output_type": "stream",
     "text": [
      "square of 2 num.. 6436343\n"
     ]
    }
   ],
   "source": [
    "square(23,5)"
   ]
  },
  {
   "cell_type": "code",
   "execution_count": 28,
   "id": "44da3040",
   "metadata": {},
   "outputs": [
    {
     "name": "stdout",
     "output_type": "stream",
     "text": [
      "addition of 2 num.. 300\n"
     ]
    }
   ],
   "source": [
    "add(100,200)"
   ]
  },
  {
   "cell_type": "code",
   "execution_count": 29,
   "id": "5821c593",
   "metadata": {},
   "outputs": [
    {
     "name": "stdout",
     "output_type": "stream",
     "text": [
      "product of 2 num.. 4304619884586\n"
     ]
    }
   ],
   "source": [
    "product(5838847,737238)"
   ]
  },
  {
   "cell_type": "code",
   "execution_count": 30,
   "id": "4cf24f2f",
   "metadata": {},
   "outputs": [
    {
     "name": "stdout",
     "output_type": "stream",
     "text": [
      "subtract of 2 num.. 9966731\n"
     ]
    }
   ],
   "source": [
    "sub(89347634,79380903)"
   ]
  },
  {
   "cell_type": "code",
   "execution_count": 31,
   "id": "81902e60",
   "metadata": {},
   "outputs": [
    {
     "name": "stdout",
     "output_type": "stream",
     "text": [
      "square of 2 num.. 13407807929942597099574024998205846127479365820592393377723561443721764030073546976801874298166903427690031858186486050853753882811946569946433649006084096\n"
     ]
    }
   ],
   "source": [
    "square(4,256)"
   ]
  },
  {
   "cell_type": "code",
   "execution_count": null,
   "id": "9832c201",
   "metadata": {},
   "outputs": [],
   "source": [
    "Function Practice Exercises\n",
    "Problems are arranged in increasing difficulty:\n",
    "\n",
    "Warmup - these can be solved using basic comparisons and methods\n",
    "Level 1 - these may involve if/then conditional statements and simple methods\n",
    "Level 2 - these may require iterating over sequences, usually with some kind of loop\n",
    "Challenging - these will take some creativity to solve\n",
    "WARMUP SECTION:\n",
    "LESSER OF TWO EVENS: Write a function that returns the lesser of two given numbers if both numbers are even, but returns the greater if one or both numbers are odd\n",
    "lesser_of_two_evens(2,4) --> 2\n",
    "lesser_of_two_evens(2,5) --> 5\n",
    "def lesser_of_two_evens(a,b):\n",
    "    if a%2==0 and b%2==0:\n",
    "        if a<b:\n",
    "            print(\"Lesser_of_two_evens\",(a,b),\"-->\",a)\n",
    "        else:\n",
    "            print(\"Lesser_of_two_evens\",(a,b),\"-->\",b)\n",
    "    if a%2!=0 or b%2!=0:\n",
    "        if a<b:\n",
    "            print(\"Lesser_of_two_evens\",(a,b),\"-->\",b)\n",
    "        else:\n",
    "            print(\"Lesser_of_two_evens\",(a,b),\"-->\",a)\n",
    "    pass\n",
    "# Check\n",
    "lesser_of_two_evens(2,4)\n",
    "Lesser_of_two_evens (2, 4) --> 2\n",
    "# Check\n",
    "lesser_of_two_evens(2,5)\n",
    "Lesser_of_two_evens (2, 5) --> 5\n",
    "ANIMAL CRACKERS: Write a function takes a two-word string and returns True if both words begin with same letter\n",
    "animal_crackers('Levelheaded Llama') --> True\n",
    "animal_crackers('Crazy Kangaroo') --> False\n",
    "def animal_crackers(text):\n",
    "    check=\"\"\n",
    "    a,b=text.split(\" \")\n",
    "    if a[0].upper()==b[0].upper():\n",
    "        check=='True'\n",
    "    else:\n",
    "        check=='False'\n",
    "    if check==\"True\":\n",
    "        print(\"animal_crackers ('\",(text),\"')-->\",\"True\")\n",
    "    else:\n",
    "        print(\"animal_crackers ('\",(text),\"')-->\",\"False\")\n",
    "    pass\n",
    "# Check\n",
    "animal_crackers('Levelheaded Llama')\n",
    "animal_crackers (' Levelheaded Llama ')--> False\n",
    "# Check\n",
    "animal_crackers('Crazy Kangaroo')\n",
    "animal_crackers (' Crazy Kangaroo ')--> False\n",
    "MAKES TWENTY: Given two integers, return True if the sum of the integers is 20 or if one of the integers is 20. If not, return False\n",
    "makes_twenty(20,10) --> True\n",
    "makes_twenty(12,8) --> True\n",
    "makes_twenty(2,3) --> False\n",
    "def makes_twenty(n1,n2):\n",
    "    if n1==20 or n2==20 or n1+n2==20:\n",
    "        print(\"makes_twenty\",(n1,n2),\"-->\",\"True\")\n",
    "    else:\n",
    "        print(\"makes_twenty\",(n1,n2),\"-->\",\"False\")\n",
    "    pass\n",
    "# Check\n",
    "makes_twenty(20,10)\n",
    "makes_twenty (20, 10) --> True\n",
    "# Check\n",
    "makes_twenty(2,3)\n",
    "makes_twenty (2, 3) --> False\n",
    "LEVEL 1 PROBLEMS\n",
    "OLD MACDONALD: Write a function that capitalizes the first and fourth letters of a name\n",
    "old_macdonald('macdonald') --> MacDonald\n",
    "Note: 'macdonald'.capitalize() returns 'Macdonald'\n",
    "\n",
    "def old_macdonald(name):\n",
    "    letter=list(name)\n",
    "    for i in range(len(name)):\n",
    "        if i==0:\n",
    "            letter[i]=letter[i].upper()\n",
    "        elif i==3:\n",
    "            letter[i]=letter[i].upper()\n",
    "    return \"\".join(letter)\n",
    "    pass\n",
    "# Check\n",
    "old_macdonald('macdonald')\n",
    "'MacDonald'\n",
    "MASTER YODA: Given a sentence, return a sentence with the words reversed\n",
    "master_yoda('I am home') --> 'home am I'\n",
    "master_yoda('We are ready') --> 'ready are We'\n",
    "Note: The .join() method may be useful here. The .join() method allows you to join together strings in a list with some connector string. For example, some uses of the .join() method:\n",
    "\n",
    ">>> \"--\".join(['a','b','c'])\n",
    ">>> 'a--b--c'\n",
    "This means if you had a list of words you wanted to turn back into a sentence, you could just join them with a single space string:\n",
    "\n",
    ">>> \" \".join(['Hello','world'])\n",
    ">>> \"Hello world\"\n",
    "def master_yoda(text):\n",
    "    pass\n",
    "# Check\n",
    "master_yoda('I am home')\n",
    "# Check\n",
    "master_yoda('We are ready')\n",
    "ALMOST THERE: Given an integer n, return True if n is within 10 of either 100 or 200\n",
    "almost_there(90) --> True\n",
    "almost_there(104) --> True\n",
    "almost_there(150) --> False\n",
    "almost_there(209) --> True\n",
    "NOTE: abs(num) returns the absolute value of a number\n",
    "\n",
    "def almost_there(n):\n",
    "    pass\n",
    "# Check\n",
    "almost_there(104)\n",
    "# Check\n",
    "almost_there(150)\n",
    "# Check\n",
    "almost_there(209)\n",
    "LEVEL 2 PROBLEMS\n",
    "FIND 33:\n",
    "Given a list of ints, return True if the array contains a 3 next to a 3 somewhere.\n",
    "\n",
    "has_33([1, 3, 3]) → True\n",
    "has_33([1, 3, 1, 3]) → False\n",
    "has_33([3, 1, 3]) → False\n",
    "def has_33(nums):\n",
    "    pass\n",
    "# Check\n",
    "has_33([1, 3, 3])\n",
    "# Check\n",
    "has_33([1, 3, 1, 3])\n",
    "# Check\n",
    "has_33([3, 1, 3])\n",
    "PAPER DOLL: Given a string, return a string where for every character in the original there are three characters\n",
    "paper_doll('Hello') --> 'HHHeeellllllooo'\n",
    "paper_doll('Mississippi') --> 'MMMiiissssssiiippppppiii'\n",
    "def paper_doll(text):\n",
    "    pass\n",
    "# Check\n",
    "paper_doll('Hello')\n",
    "# Check\n",
    "paper_doll('Mississippi')\n",
    "Great Job!\n"
   ]
  }
 ],
 "metadata": {
  "kernelspec": {
   "display_name": "Python 3 (ipykernel)",
   "language": "python",
   "name": "python3"
  },
  "language_info": {
   "codemirror_mode": {
    "name": "ipython",
    "version": 3
   },
   "file_extension": ".py",
   "mimetype": "text/x-python",
   "name": "python",
   "nbconvert_exporter": "python",
   "pygments_lexer": "ipython3",
   "version": "3.11.4"
  }
 },
 "nbformat": 4,
 "nbformat_minor": 5
}
